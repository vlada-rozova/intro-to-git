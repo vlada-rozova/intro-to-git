{
 "cells": [
  {
   "cell_type": "markdown",
   "metadata": {},
   "source": [
    "![](./images/slide1.jpeg)"
   ]
  },
  {
   "cell_type": "markdown",
   "metadata": {},
   "source": [
    "![](./images/slide2.jpeg)"
   ]
  },
  {
   "cell_type": "markdown",
   "metadata": {},
   "source": [
    "# Part 1: Git\n",
    "___"
   ]
  },
  {
   "cell_type": "markdown",
   "metadata": {},
   "source": [
    "![](./images/slide3.jpeg)"
   ]
  },
  {
   "cell_type": "markdown",
   "metadata": {},
   "source": [
    "## Where do I start? \n",
    "\n",
    "What do you need to use Git?\n",
    "- If you are using Mac all you need is to open the Terminal app.\n",
    "- If you are using Windows you'll need to first download and install [`gitbash`](http://gitforwindows.org).\n",
    "\n",
    "Additionally, you'll need to create a [GitHub](https://github.com) account if you are planning to use GitHub. "
   ]
  },
  {
   "cell_type": "markdown",
   "metadata": {},
   "source": [
    "## Let's Git into it!\n",
    "\n",
    "There are a variety of commands you can use in Git. You can take a look at a list of the available commands by running:\n",
    "\n",
    "```bash\n",
    "$ git help -a"
    "```\n",
   ]
  },
  {
   "cell_type": "markdown",
   "metadata": {},
   "source": [
    "First, create a directory on your Desktop.\n",
    "\n",
    "```bash\n",
    "$ cd ~/Desktop\n",
    "$ mkdir hello-git\n",
    "```\n",
    "\n",
    "You can place this directory under Git revision control using the following command:\n",
    "\n",
    "```bash\n",
    "$ cd hello-git # dont forget to CD into the folder.\n",
    "$ git init\n",
    "```\n",
    "\n",
    "Git will reply:\n",
    "\n",
    "```bash\n",
    "Initialized empty Git repository in <location>\n",
    "```\n",
    "\n",
    "You've now initialized the working directory."
   ]
  },
  {
   "cell_type": "markdown",
   "metadata": {},
   "source": [
    "### The .git folder\n",
    "\n",
    "We can look at the contents of this empty folder using this command:\n",
    "\n",
    "```bash\n",
    "ls -A\n",
    "```\n",
    "\n",
    "We should see that there is now a hidden folder called `.git`. This is where all of the information about your repository is stored. There is no need for you to make any changes to this folder. You can control all of the Git flow using `git` commands."
   ]
  },
  {
   "cell_type": "markdown",
   "metadata": {},
   "source": [
    "### Add a file\n",
    "\n",
    "Let's create a new file.\n",
    "\n",
    "```bash\n",
    "$ touch a.txt\n",
    "```\n",
    "\n",
    "If we run `git status`, we should get:\n",
    "\n",
    "```bash\n",
    "On branch master\n",
    "\n",
    "Initial commit\n",
    "\n",
    "Untracked files:\n",
    "  (use \"git add <file>...\" to include in what will be committed)\n",
    "\n",
    "\ta.txt\n",
    "\n",
    "nothing added to commit but untracked files present (use \"git add\" to track)\n",
    "```\n",
    "\n",
    "This means that there is a new, **untracked** file. Next, tell Git to take a snapshot of the contents of all files under the current directory. (Note the `.`).\n",
    "\n",
    "```bash\n",
    "$ git add .\n",
    "```\n",
    "\n",
    "This snapshot is now stored in a temporary staging area, which Git calls the **\"Index.\"**"
   ]
  },
  {
   "cell_type": "markdown",
   "metadata": {},
   "source": [
    "### Commit\n",
    "\n",
    "To permanently store the contents of the index in the repository, (i.e., commit these changes to the **\"HEAD\"**), you need to run the following command:\n",
    "\n",
    "```bash\n",
    "$ git commit -m \"Please remember this file at this time\"\n",
    "```\n",
    "\n",
    "You should now get:\n",
    "\n",
    "```bash\n",
    "[master (root-commit) 83c5c13] Please remember this file at this time\n",
    " 1 file changed, 0 insertions(+), 0 deletions(-)\n",
    " create mode 100644 a.txt\n",
    "```"
   ]
  },
  {
   "cell_type": "markdown",
   "metadata": {},
   "source": [
    "### Checking the log\n",
    "\n",
    "If we want to view the commit history, we can run:\n",
    "\n",
    "```bash\n",
    "git log\n",
    "```\n",
    "\n",
    "As a result, you should see:\n",
    "\n",
    "```bash\n",
    "commit 83c5c13346e25fe14aa62b7b86b42d1dbd4972fe\n",
    "Author: [YOUR_USERNAME]\n",
    "Date:   [TIME_OF_COMMIT]\n",
    "\n",
    "    Please remember this file at this time\n",
    "```"
   ]
  },
  {
   "cell_type": "markdown",
   "metadata": {},
   "source": [
    "# Part 2: GitHub\n",
    "___"
   ]
  },
  {
   "cell_type": "markdown",
   "metadata": {},
   "source": [
    "![](./images/slide4.jpeg)"
   ]
  },
  {
   "cell_type": "markdown",
   "metadata": {},
   "source": [
    "![](./images/slide5.jpeg)"
   ]
  },
  {
   "cell_type": "markdown",
   "metadata": {},
   "source": [
    "<a id=\"making_cloning\"></a>\n",
    "## Using GitHub\n",
    "\n",
    "When using GitHub we will typically have two repository locations, **Local** and **Remote**.\n",
    "- **Local:** - Repositories that are stored on our current machine. Usually where we work on our projects.\n",
    "- **Remote:** - Repositories that are not stored in our current location/machine. Instead they are stored on a GitHub server.\n",
    "\n"
   ]
  },
  {
   "cell_type": "markdown",
   "metadata": {},
   "source": [
    "Let's check if your local repo is connected to a remote repo, type:\n",
    "\n",
    "```bash\n",
    "git remote -v\n",
    "```\n",
    "\n",
    "Because we have not yet connected a remote repository on GitHub to our local repository `hello-git`, this command should output nothing."
   ]
  },
  {
   "cell_type": "markdown",
   "metadata": {},
   "source": [
    "## Set up your local and remote repositories\n",
    "\n",
    "To make things easier, it is better to start with creating a **remote** repository and then creating a **local** repository by cloning it and downloading the contents on your computer."
   ]
  },
  {
   "cell_type": "markdown",
   "metadata": {},
   "source": [
    "### Creating a new remote repository\n",
    "\n",
    "1. Go to your GitHub account.\n",
    "2. On the right-hand side, hit the **\"+\"** button for New repository.\n",
    "3. Give your repository a name, decide who can see its contents and tick \"Initialize this repository with a README\".\n",
    "4. `.gitignore` is a hidden folder telling Git which files to automatically ignore. This makes things a lot easier and if you are going to use Python it is recommended you choose it from the list.\n",
    "5. Click the big, green **\"Create Repository\"** button."
   ]
  },
  {
   "cell_type": "markdown",
   "metadata": {},
   "source": [
    "### Cloning your remote repository\n",
    "\n",
    "If you want to have a copy of your new remote repository (or any other repository you forked) on your computer, you need to clone it.\n",
    "1. Go to your GitHub repository.\n",
    "2. On the right-hand side of your GitHub project repository, there should be a green **\"Clone or download\"** button. This button should reveal a tiny window with a URL. Copy the provided URL, which is the path to this remote repo.\n",
    "3. In your command line, go to the directory where you want to store your local project repository. _Make sure this is not an existing git repository (use `git status` to check)._\n",
    "4. Using the copied URL, type: \n",
    "```bash\n",
    "git clone https://github.com/YOUR-USERNAME/YOUR-REPOSITORY\n",
    "```"
   ]
  },
  {
   "cell_type": "markdown",
   "metadata": {},
   "source": [
    "## Change files, save changes and sync repositories\n",
    "### Pulling from Github\n",
    "1. On GitHub, create a new file or open an existing file, edit it and commit changes. Can you see the new file in your GitHub? Now go to your terminal and use `ls` to check if you have this file on your computer.\n",
    "\n",
    "2. **Now the remote repository is one step ahead of the local repo.** To sync them pull the contents from the remote repository, type:\n",
    "```bash\n",
    "git pull\n",
    "```"
   ]
  },
  {
   "cell_type": "markdown",
   "metadata": {},
   "source": [
    "### Making changes in your  local repository\n",
    "1. Change files stored on your computer or create a new file. One of the ways to do it is:\n",
    "```bash\n",
    "touch file_name.txt\n",
    "```\n",
    "You can also edit this file in the `nano` editor:\n",
    "```bash\n",
    "nano file_name.txt\n",
    "```\n",
    "\n",
    "2. Again, use `ls` to check if you have the new file in your local repository and then go and check your GitHub account.\n",
    "\n",
    "3. Stage files or the whole repository to track changes:\n",
    "```bash\n",
    "git add file_name.txt\n",
    "```\n",
    "or\n",
    "```bash\n",
    "git add .\n",
    "```\n",
    "4. Commit changes to Git:\n",
    "```bash\n",
    "git commit -m”Your message”\n",
    "```\n",
    "5. **Now your local repository is one step ahead of the remote one.** To sync them push the contents of the local repository into the main branch (=master) of the remote repository (=origin), type:\n",
    "\n",
    "```bash\n",
    "git push origin master\n",
    "```\n",
    "or simply\n",
    "```bash\n",
    "git push\n",
    "```\n",
    "**Note:** if the remote repository contains work that you do not have locally, you will first need to `git pull`.\n"
   ]
  }
 ],
 "metadata": {
  "kernelspec": {
   "display_name": "Python 3",
   "language": "python",
   "name": "python3"
  },
  "language_info": {
   "codemirror_mode": {
    "name": "ipython",
    "version": 3
   },
   "file_extension": ".py",
   "mimetype": "text/x-python",
   "name": "python",
   "nbconvert_exporter": "python",
   "pygments_lexer": "ipython3",
   "version": "3.6.8"
  },
  "toc": {
   "base_numbering": 1,
   "nav_menu": {},
   "number_sections": true,
   "sideBar": true,
   "skip_h1_title": false,
   "title_cell": "Table of Contents",
   "title_sidebar": "Contents",
   "toc_cell": false,
   "toc_position": {},
   "toc_section_display": true,
   "toc_window_display": false
  }
 },
 "nbformat": 4,
 "nbformat_minor": 2
}
